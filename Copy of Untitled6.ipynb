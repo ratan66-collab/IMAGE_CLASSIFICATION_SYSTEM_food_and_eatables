{
 "cells": [
  {
   "cell_type": "code",
   "execution_count": 5,
   "metadata": {
    "executionInfo": {
     "elapsed": 4044,
     "status": "ok",
     "timestamp": 1742595437892,
     "user": {
      "displayName": "Ratan Singh",
      "userId": "15973578580777387897"
     },
     "user_tz": -330
    },
    "id": "_M38SNwH2M06"
   },
   "outputs": [],
   "source": [
    "import tensorflow as tf\n",
    "import numpy as np\n",
    "import matplotlib.pyplot as plt\n",
    "import os\n",
    "from tensorflow.keras.preprocessing.image import ImageDataGenerator\n"
   ]
  },
  {
   "cell_type": "code",
   "execution_count": 1,
   "metadata": {
    "colab": {
     "base_uri": "https://localhost:8080/"
    },
    "executionInfo": {
     "elapsed": 39884,
     "status": "ok",
     "timestamp": 1742595007611,
     "user": {
      "displayName": "Ratan Singh",
      "userId": "15973578580777387897"
     },
     "user_tz": -330
    },
    "id": "nqQlnKSA-hBd",
    "outputId": "56ccb4aa-85cc-4b62-df26-fdb7865bcdd5"
   },
   "outputs": [
    {
     "name": "stdout",
     "output_type": "stream",
     "text": [
      "Mounted at /content/drive\n"
     ]
    }
   ],
   "source": [
    "from google.colab import drive\n",
    "drive.mount('/content/drive')\n"
   ]
  },
  {
   "cell_type": "code",
   "execution_count": 2,
   "metadata": {
    "executionInfo": {
     "elapsed": 52,
     "status": "ok",
     "timestamp": 1742595144862,
     "user": {
      "displayName": "Ratan Singh",
      "userId": "15973578580777387897"
     },
     "user_tz": -330
    },
    "id": "U2aC9wDcwQa0"
   },
   "outputs": [],
   "source": [
    "DATASET_PATH = \"/content/drive/MyDrive/cnn\" \n"
   ]
  },
  {
   "cell_type": "code",
   "execution_count": 6,
   "metadata": {
    "executionInfo": {
     "elapsed": 4,
     "status": "ok",
     "timestamp": 1742595451042,
     "user": {
      "displayName": "Ratan Singh",
      "userId": "15973578580777387897"
     },
     "user_tz": -330
    },
    "id": "CKBcaV5Iw7q_"
   },
   "outputs": [],
   "source": [
    "datagen = ImageDataGenerator(\n",
    "    rescale = 1.0/255,\n",
    "    validation_split = 0.2,\n",
    "    rotation_range=20,\n",
    "    width_shift_range=20,\n",
    "    height_shift_range = 0.2,\n",
    "    horizontal_flip=True\n",
    "\n",
    ")\n",
    "\n",
    "\n"
   ]
  },
  {
   "cell_type": "code",
   "execution_count": 8,
   "metadata": {
    "colab": {
     "base_uri": "https://localhost:8080/"
    },
    "executionInfo": {
     "elapsed": 3562,
     "status": "ok",
     "timestamp": 1742595811650,
     "user": {
      "displayName": "Ratan Singh",
      "userId": "15973578580777387897"
     },
     "user_tz": -330
    },
    "id": "srac1du-x8xU",
    "outputId": "e5a67f13-4a82-42bb-bbf2-3ae2cdd17ccf"
   },
   "outputs": [
    {
     "name": "stdout",
     "output_type": "stream",
     "text": [
      "Found 1340 images belonging to 2 classes.\n"
     ]
    }
   ],
   "source": [
    "train_generator = datagen.flow_from_directory(\n",
    "    DATASET_PATH,\n",
    "    target_size = (32, 32),  \n",
    "    class_mode=\"categorical\",\n",
    "    subset=\"training\"\n",
    ")"
   ]
  },
  {
   "cell_type": "code",
   "execution_count": 9,
   "metadata": {
    "colab": {
     "base_uri": "https://localhost:8080/"
    },
    "executionInfo": {
     "elapsed": 141,
     "status": "ok",
     "timestamp": 1742596238047,
     "user": {
      "displayName": "Ratan Singh",
      "userId": "15973578580777387897"
     },
     "user_tz": -330
    },
    "id": "yKgESWDUy4DQ",
    "outputId": "2688d466-4afa-40dd-f69b-88b4fed5c526"
   },
   "outputs": [
    {
     "name": "stdout",
     "output_type": "stream",
     "text": [
      "Found 513 images belonging to 2 classes.\n"
     ]
    }
   ],
   "source": [
    "val_generator = datagen.flow_from_directory(\n",
    "    DATASET_PATH,\n",
    "    target_size = (150,150),\n",
    "    batch_size=32,\n",
    "    class_mode = \"categorical\",\n",
    "    subset = \"validation\"\n",
    "\n",
    "\n",
    ")"
   ]
  },
  {
   "cell_type": "code",
   "execution_count": null,
   "metadata": {
    "id": "vT7SkGLC1GiL"
   },
   "outputs": [],
   "source": [
    "model = tf.keras.models.Sequential([\n",
    "    tf.keras.layers.Conv2D(32,(3,3), activation=\"relu\", input_shape=(150,150))\n",
    "])"
   ]
  }
 ],
 "metadata": {
  "colab": {
   "authorship_tag": "ABX9TyPXjk4xxRU1JmpESPRPsGEV",
   "provenance": [
    {
     "file_id": "1b5nns0O_qd8bUoBeiT-TCcCJNxrQUnzH",
     "timestamp": 1742596583157
    }
   ]
  },
  "kernelspec": {
   "display_name": "Python 3",
   "name": "python3"
  },
  "language_info": {
   "name": "python"
  }
 },
 "nbformat": 4,
 "nbformat_minor": 0
}
